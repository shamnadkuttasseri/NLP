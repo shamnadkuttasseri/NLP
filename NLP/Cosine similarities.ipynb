{
 "cells": [
  {
   "cell_type": "markdown",
   "id": "b7f8aa38",
   "metadata": {},
   "source": [
    "## Arrays"
   ]
  },
  {
   "cell_type": "code",
   "execution_count": 2,
   "id": "0c5a7562",
   "metadata": {},
   "outputs": [
    {
     "name": "stdout",
     "output_type": "stream",
     "text": [
      "A: [2 1 2 3 2 9]\n",
      "B: [3 4 2 4 5 5]\n"
     ]
    }
   ],
   "source": [
    "\n",
    "# import required libraries\n",
    "import numpy as np\n",
    "from numpy.linalg import norm\n",
    " \n",
    "# define two lists or array\n",
    "A = np.array([2,1,2,3,2,9])\n",
    "B = np.array([3,4,2,4,5,5])\n",
    " \n",
    "print(\"A:\", A)\n",
    "print(\"B:\", B)"
   ]
  },
  {
   "cell_type": "code",
   "execution_count": 3,
   "id": "9ed3f36c",
   "metadata": {},
   "outputs": [
    {
     "name": "stdout",
     "output_type": "stream",
     "text": [
      "Cosine Similarity: 0.8188504723485274\n"
     ]
    }
   ],
   "source": [
    "# compute cosine similarity\n",
    "cosine = np.dot(A,B)/(norm(A)*norm(B))\n",
    "print(\"Cosine Similarity:\", cosine)"
   ]
  },
  {
   "cell_type": "markdown",
   "id": "a6204055",
   "metadata": {},
   "source": [
    "## Matrix"
   ]
  },
  {
   "cell_type": "code",
   "execution_count": 5,
   "id": "27f91d3d",
   "metadata": {},
   "outputs": [
    {
     "name": "stdout",
     "output_type": "stream",
     "text": [
      "A:\n",
      " [[2 1 2]\n",
      " [4 6 8]\n",
      " [9 6 5]]\n",
      "B:\n",
      " [[3 4 2]\n",
      " [1 2 3]\n",
      " [3 0 8]]\n"
     ]
    }
   ],
   "source": [
    "A = np.array([[2,1,2],\n",
    "              [4,6,8],\n",
    "              [9,6,5]])\n",
    "B = np.array([[3,4,2],\n",
    "              [1,2,3],\n",
    "              [3,0,8]])\n",
    "print(\"A:\\n\", A)\n",
    "print(\"B:\\n\", B)"
   ]
  },
  {
   "cell_type": "code",
   "execution_count": 7,
   "id": "9918d4a6",
   "metadata": {},
   "outputs": [
    {
     "name": "stdout",
     "output_type": "stream",
     "text": [
      "cosine similarity: [0.86657824 0.99258333 0.65806562]\n"
     ]
    }
   ],
   "source": [
    "# compute cosine similarity\n",
    "cosine = np.sum(A*B, axis=1)/(norm(A, axis=1)*norm(B, axis=1))\n",
    "print(\"cosine similarity:\",cosine)"
   ]
  },
  {
   "cell_type": "code",
   "execution_count": null,
   "id": "631978be",
   "metadata": {},
   "outputs": [],
   "source": []
  }
 ],
 "metadata": {
  "kernelspec": {
   "display_name": "Python 3 (ipykernel)",
   "language": "python",
   "name": "python3"
  },
  "language_info": {
   "codemirror_mode": {
    "name": "ipython",
    "version": 3
   },
   "file_extension": ".py",
   "mimetype": "text/x-python",
   "name": "python",
   "nbconvert_exporter": "python",
   "pygments_lexer": "ipython3",
   "version": "3.11.5"
  }
 },
 "nbformat": 4,
 "nbformat_minor": 5
}
